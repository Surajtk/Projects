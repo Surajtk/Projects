{
 "cells": [
  {
   "cell_type": "code",
   "execution_count": null,
   "metadata": {},
   "outputs": [
    {
     "name": "stdout",
     "output_type": "stream",
     "text": [
      "                                            the_geom  PERIMETER  AREA  \\\n",
      "0  MULTIPOLYGON (((-87.60914087617894 41.84469250...          0     0   \n",
      "1  MULTIPOLYGON (((-87.59215283879394 41.81692934...          0     0   \n",
      "2  MULTIPOLYGON (((-87.62879823733725 41.80189303...          0     0   \n",
      "3  MULTIPOLYGON (((-87.6067081256125 41.816813770...          0     0   \n",
      "4  MULTIPOLYGON (((-87.59215283879394 41.81692934...          0     0   \n",
      "\n",
      "   COMAREA_  COMAREA_ID  AREA_NUMBE        COMMUNITY  AREA_NUM_1  \\\n",
      "0         0           0          35          DOUGLAS          35   \n",
      "1         0           0          36          OAKLAND          36   \n",
      "2         0           0          37      FULLER PARK          37   \n",
      "3         0           0          38  GRAND BOULEVARD          38   \n",
      "4         0           0          39          KENWOOD          39   \n",
      "\n",
      "        SHAPE_AREA       SHAPE_LEN  \n",
      "0  46,004,621.1581  31,027.0545098  \n",
      "1  16,913,961.0408  19,565.5061533  \n",
      "2  19,916,704.8692  25,339.0897503  \n",
      "3  48,492,503.1554  28,196.8371573  \n",
      "4  29,071,741.9283  23,325.1679062  \n"
     ]
    }
   ],
   "source": [
    "import pandas as pd\n",
    "\n",
    "# Load the lookup file\n",
    "#Replace with your actual file path\n",
    "lookup = pd.read_csv(\"/Users/surajtk/Documents/ITMD-526/Data Visualization - Dashboards and Reports/Data visualization/Datasets/CommAreas_20250405.csv\")\n",
    "print(lookup.head())"
   ]
  },
  {
   "cell_type": "code",
   "execution_count": 2,
   "metadata": {},
   "outputs": [
    {
     "name": "stdout",
     "output_type": "stream",
     "text": [
      "Index(['Data Year', 'ID', 'Property Name', 'Reporting Status', 'Address',\n",
      "       'ZIP Code', 'Chicago Energy Rating',\n",
      "       'Exempt From Chicago Energy Rating', 'Community Area',\n",
      "       'Primary Property Type', 'Gross Floor Area - Buildings (sq ft)',\n",
      "       'Year Built', '# of Buildings', 'Water Use (kGal)', 'ENERGY STAR Score',\n",
      "       'Electricity Use (kBtu)', 'Natural Gas Use (kBtu)',\n",
      "       'District Steam Use (kBtu)', 'District Chilled Water Use (kBtu)',\n",
      "       'All Other Fuel Use (kBtu)', 'Site EUI (kBtu/sq ft)',\n",
      "       'Source EUI (kBtu/sq ft)', 'Weather Normalized Site EUI (kBtu/sq ft)',\n",
      "       'Weather Normalized Source EUI (kBtu/sq ft)',\n",
      "       'Total GHG Emissions (Metric Tons CO2e)',\n",
      "       'GHG Intensity (kg CO2e/sq ft)', 'Latitude', 'Longitude', 'Location',\n",
      "       'Row_ID', 'Building Age', 'Electricity Intensity', 'Gas Intensity'],\n",
      "      dtype='object')\n"
     ]
    },
    {
     "name": "stderr",
     "output_type": "stream",
     "text": [
      "/var/folders/xg/glg0kp_x60qcnlp4f4v7gnz80000gn/T/ipykernel_5918/1833668830.py:1: DtypeWarning: Columns (5,6) have mixed types. Specify dtype option on import or set low_memory=False.\n",
      "  df = pd.read_csv(\"cleaned_chicago_energy_benchmark_data.csv\")\n"
     ]
    }
   ],
   "source": [
    "df = pd.read_csv(\"cleaned_chicago_energy_benchmark_data.csv\")\n",
    "\n",
    "print(df.columns)"
   ]
  },
  {
   "cell_type": "code",
   "execution_count": 3,
   "metadata": {},
   "outputs": [
    {
     "name": "stdout",
     "output_type": "stream",
     "text": [
      "  Community Area  Community Area Code\n",
      "0        Unknown                  NaN\n",
      "1        Unknown                  NaN\n",
      "2           Loop                 32.0\n",
      "3   Lincoln Park                  7.0\n",
      "4  Mckinley Park                 59.0\n"
     ]
    }
   ],
   "source": [
    "# Clean and merge\n",
    "lookup.columns = lookup.columns.str.strip().str.lower()\n",
    "\n",
    "# Standardize names\n",
    "lookup['community'] = lookup['community'].str.strip().str.title()\n",
    "df['Community Area'] = df['Community Area'].astype(str).str.strip().str.title()\n",
    "\n",
    "df = pd.merge(df, lookup[['area_numbe', 'community']], how='left',\n",
    "              left_on='Community Area', right_on='community')\n",
    "\n",
    "# Rename\n",
    "df.rename(columns={'area_numbe': 'Community Area Code'}, inplace=True)\n",
    "df.drop(columns=['community'], inplace=True)\n",
    "\n",
    "# Check\n",
    "print(df[['Community Area', 'Community Area Code']].head())"
   ]
  },
  {
   "cell_type": "code",
   "execution_count": 4,
   "metadata": {},
   "outputs": [],
   "source": [
    "df = df.dropna(subset=['Community Area Code'])\n",
    "df['Community Area Code'] = df['Community Area Code'].astype(int)"
   ]
  },
  {
   "cell_type": "code",
   "execution_count": 5,
   "metadata": {},
   "outputs": [
    {
     "name": "stdout",
     "output_type": "stream",
     "text": [
      "Export complete the file saved as: energy_cleaned_with_community_area.csv\n"
     ]
    }
   ],
   "source": [
    "# Export to CSV (change path if needed)\n",
    "df.to_csv(\"/Users/surajtk/Downloads/cleaned_chicago_energy_data.csv\", index=False)\n",
    "\n",
    "print(\"Export complete the file saved as: energy_cleaned_with_community_area.csv\")\n",
    "\n"
   ]
  },
  {
   "cell_type": "code",
   "execution_count": 6,
   "metadata": {},
   "outputs": [
    {
     "name": "stdout",
     "output_type": "stream",
     "text": [
      "   Data Year      ID                           Property Name Reporting Status  \\\n",
      "2       2022  160184                       29 E. Madison LLC   submitted data   \n",
      "3       2021  260184   Hampden Green Condominium Association        submitted   \n",
      "4       2021  260149  Riverside Square & River's Edge/ 90033        submitted   \n",
      "5       2020  232458               Harper Square Cooperative   submitted data   \n",
      "6       2020  254616                    Former Coyne College   submitted data   \n",
      "\n",
      "                       Address ZIP Code Chicago Energy Rating  \\\n",
      "2              29 E Madison St    60602                   2.5   \n",
      "3            2728 N HAMPDEN CT    60614                   1.5   \n",
      "4           3145 S Ashland Ave    60608                   4.0   \n",
      "5  4800 - 4850 S Lake Park Ave    60615                   1.0   \n",
      "6               330 N Green St    60607                   2.0   \n",
      "\n",
      "  Exempt From Chicago Energy Rating  Community Area  \\\n",
      "2                     not available            Loop   \n",
      "3                     not available    Lincoln Park   \n",
      "4                     not available   Mckinley Park   \n",
      "5                     not available         Kenwood   \n",
      "6                     not available  Near West Side   \n",
      "\n",
      "       Primary Property Type  ...  Total GHG Emissions (Metric Tons CO2e)  \\\n",
      "2                     office  ...                                  2361.5   \n",
      "3        multifamily housing  ...                                  1148.3   \n",
      "4  supermarket/grocery store  ...                                  1417.8   \n",
      "5        multifamily housing  ...                                  4871.7   \n",
      "6                     office  ...                                  4581.4   \n",
      "\n",
      "   GHG Intensity (kg CO2e/sq ft)   Latitude  Longitude  \\\n",
      "2                            9.8  41.881965 -87.626793   \n",
      "3                            8.2  41.922011 -87.654620   \n",
      "4                           19.0  41.836579 -87.663845   \n",
      "5                            7.8  41.807475 -87.591264   \n",
      "6                            8.2  41.873335 -87.651021   \n",
      "\n",
      "                                   Location       Row_ID  Building Age  \\\n",
      "2  (41.881965330252534, -87.62679322159418)  2022-160184         121.0   \n",
      "3               (41.92201051, -87.65461957)  2021-260184          55.0   \n",
      "4                (41.8365795, -87.66384491)  2021-260149          38.0   \n",
      "5               (41.80747487, -87.59126397)  2020-232458          51.0   \n",
      "6                 (41.873335, -87.65102071)  2020-254616           6.0   \n",
      "\n",
      "   Electricity Intensity  Gas Intensity  Community Area Code  \n",
      "2              46.058003      70.975441                   32  \n",
      "3              17.971988      78.847058                    7  \n",
      "4             107.657933      68.824322                   59  \n",
      "5              26.124272      69.362558                   39  \n",
      "6              51.494495       3.960117                   28  \n",
      "\n",
      "[5 rows x 34 columns]\n"
     ]
    }
   ],
   "source": [
    "print(df.head())\n"
   ]
  }
 ],
 "metadata": {
  "kernelspec": {
   "display_name": "Python 3",
   "language": "python",
   "name": "python3"
  },
  "language_info": {
   "codemirror_mode": {
    "name": "ipython",
    "version": 3
   },
   "file_extension": ".py",
   "mimetype": "text/x-python",
   "name": "python",
   "nbconvert_exporter": "python",
   "pygments_lexer": "ipython3",
   "version": "3.13.1"
  }
 },
 "nbformat": 4,
 "nbformat_minor": 2
}
